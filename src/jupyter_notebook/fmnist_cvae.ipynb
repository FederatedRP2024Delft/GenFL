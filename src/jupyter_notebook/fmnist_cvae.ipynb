{
 "cells": [
  {
   "cell_type": "code",
   "id": "initial_id",
   "metadata": {
    "collapsed": true,
    "ExecuteTime": {
     "end_time": "2024-05-15T18:58:46.628536Z",
     "start_time": "2024-05-15T18:58:44.630591Z"
    }
   },
   "source": [
    "import torchvision\n",
    "\n",
    "from torch import cuda, device, Tensor\n",
    "from src.plots import plot_vae_training_result, plot_image\n",
    "from src.vae.mnist_vae import ConditionalVae\n",
    "\n",
    "device = device('cuda' if cuda.is_available() else 'cpu')"
   ],
   "execution_count": 1,
   "outputs": []
  },
  {
   "metadata": {
    "ExecuteTime": {
     "end_time": "2024-05-15T18:58:46.705387Z",
     "start_time": "2024-05-15T18:58:46.629540Z"
    }
   },
   "cell_type": "code",
   "source": [
    "training_data = torchvision.datasets.FashionMNIST(root='../data/FMNIST_train', train=True, download=True, transform=torchvision.transforms.ToTensor())\n",
    "testing_data = torchvision.datasets.FashionMNIST(root='../data/FMNIST_test', train=False, download=True, transform=torchvision.transforms.ToTensor())\n",
    "\n",
    "print(training_data)\n",
    "print(testing_data)\n",
    "\n",
    "input = training_data.data[:60000] / 255.0    # normalizing necessary to make pixels in [0, 1] range for FID\n",
    "labels = training_data.targets[:60000]"
   ],
   "id": "16ee1ea9b79842dc",
   "execution_count": 2,
   "outputs": []
  },
  {
   "metadata": {
    "jupyter": {
     "is_executing": true
    },
    "ExecuteTime": {
     "start_time": "2024-05-15T18:58:46.706240Z"
    }
   },
   "cell_type": "code",
   "source": [
    "# Train VAE\n",
    "vae = ConditionalVae(dim_encoding=3).to(device)\n",
    "\n",
    "# try with model sigma\n",
    "vae_model, vae_loss_li, kl_loss_li = vae.train_model(\n",
    "    training_data=training_data,\n",
    "    batch_size=32,\n",
    "    epochs=50,\n",
    "    learning_rate=0.001\n",
    ")"
   ],
   "id": "415ddc3205ecd96b",
   "execution_count": null,
   "outputs": []
  },
  {
   "metadata": {
    "ExecuteTime": {
     "end_time": "2024-05-15T18:03:37.160792Z",
     "start_time": "2024-05-15T18:03:36.909905Z"
    }
   },
   "cell_type": "code",
   "source": [
    "# move tensors to cpu before converting to np array\n",
    "np_kl_loss_li = []\n",
    "\n",
    "for output in kl_loss_li:\n",
    "    if isinstance(output, Tensor):\n",
    "        np_kl_loss_li.append(output.cpu().detach().numpy())\n",
    "\n",
    "# plot results\n",
    "plot_vae_training_result(\n",
    "    input=input,\n",
    "    labels=labels,\n",
    "    vae_model=vae_model,\n",
    "    vae_loss_li=vae_loss_li,\n",
    "    kl_loss_li=np_kl_loss_li\n",
    ")"
   ],
   "id": "9ce187083360ae0e",
   "execution_count": 4,
   "outputs": []
  },
  {
   "metadata": {
    "ExecuteTime": {
     "end_time": "2024-05-15T18:03:51.981523Z",
     "start_time": "2024-05-15T18:03:51.902680Z"
    }
   },
   "cell_type": "code",
   "source": [
    "images = vae.generate_data(n_samples=5, target_label=4)\n",
    "plot_image(images)"
   ],
   "id": "8c38d9f63fe4cdfc",
   "execution_count": 7,
   "outputs": []
  },
  {
   "metadata": {
    "ExecuteTime": {
     "end_time": "2024-05-14T13:52:58.572754Z",
     "start_time": "2024-05-14T13:52:58.365797Z"
    }
   },
   "cell_type": "code",
   "source": [
    "# from src.sampling import split_dirichlet\n",
    "# \n",
    "# # generate imbalanced data set for comparison of distribution of input vs distribution of generated images\n",
    "# training_data = torchvision.datasets.MNIST(root='../data/MNIST_train', train=True, download=True, transform=torchvision.transforms.ToTensor())\n",
    "# \n",
    "# input = training_data.data[:60000]\n",
    "# labels = training_data.targets[:60000]\n",
    "# \n",
    "# users_data = split_dirichlet(dataset=training_data, num_users=4, is_cfar=False, beta=0.5)\n",
    "# \n",
    "# total_input = []\n",
    "# total_labels = []\n",
    "# total_counts = []\n",
    "# for user_idx in users_data:\n",
    "#     images = []\n",
    "#     outputs = []\n",
    "#     counts = [0, 0, 0, 0, 0, 0, 0, 0, 0, 0]\n",
    "# \n",
    "#     for data_idx in users_data[user_idx]:\n",
    "#         image = input[int(data_idx)]\n",
    "#         images.append(image)\n",
    "#         label = labels[int(data_idx)]\n",
    "#         outputs.append(label)\n",
    "#         counts[label] +=1\n",
    "#     total_input.append(images)\n",
    "#     total_labels.append(outputs)\n",
    "#     total_counts.append(counts)\n",
    "# \n",
    "# user_idx = 0\n",
    "# sample_input = total_input[user_idx]\n",
    "# sample_label = total_labels[user_idx]\n",
    "# \n",
    "# input_tensor = torch.stack(sample_input)\n",
    "# label_tensor = torch.stack(sample_label)\n",
    "# \n",
    "# plot_image_label_two (input_tensor.cpu().detach().numpy(), label_tensor.cpu().detach().numpy())\n",
    "# \n",
    "# assert input_tensor.shape[0] == label_tensor.shape[0]\n",
    "# \n",
    "# training_data.data = input_tensor\n",
    "# training_data.targets = label_tensor\n",
    "# \n",
    "# assert training_data.data.shape == input_tensor.shape\n",
    "# assert training_data.targets.shape == label_tensor.shape\n",
    "# \n",
    "# \n",
    "# # Train VAE on imbalanced dataset\n",
    "# vae_imbalanced = VaeAutoencoder(dim_encoding=2)\n",
    "# \n",
    "# _, _, _ = vae_imbalanced.train_model(\n",
    "#     training_data,\n",
    "#     batch_size=50,\n",
    "#     beta=1000,\n",
    "#     epochs=20\n",
    "# )\n",
    "# \n",
    "# gen_image = vae_imbalanced.generate_data(n_samples=sum(total_counts[user_idx]))\n",
    "# gen_output = classifier.generate_labels(gen_image)\n",
    "# gen_counts = [0, 0, 0, 0, 0, 0, 0, 0, 0, 0]\n",
    "# for tensor_label in gen_output:\n",
    "#     gen_counts[tensor_label[0]]+=1\n",
    "# \n",
    "# # plot generated data\n",
    "# plot_image_label_two(gen_image.cpu().detach().numpy(), gen_output.cpu().detach().numpy())\n",
    "# \n",
    "# print(\"Input counts: \", total_counts[user_idx])\n",
    "# print(\"Generated counts: \", gen_counts)"
   ],
   "id": "9120a59d9016136e",
   "execution_count": 6,
   "outputs": []
  },
  {
   "metadata": {},
   "cell_type": "code",
   "source": [
    "# x = vae.generate_data(n_samples=10000)\n",
    "# print(\"Number of images: \", x.shape[0])\n",
    "# \n",
    "# labels = classifier.generate_labels(x)\n",
    "# print(\"Labels: \", labels.shape)"
   ],
   "id": "1296469b8fed46fe",
   "execution_count": null,
   "outputs": []
  },
  {
   "metadata": {},
   "cell_type": "code",
   "source": [
    "# # Determine FID\n",
    "# # generate 500 images\n",
    "# syn_input, _ = vae.generate_data(n_samples=500)\n",
    "# input = input[:500]\n",
    "# \n",
    "# input_rgb = input.view(-1, 1, 28, 28).repeat(1, 3, 1, 1)\n",
    "# syn_input_rgb = syn_input.view(-1, 1, 28, 28).repeat(1, 3, 1, 1)\n",
    "# \n",
    "# # compute FID score\n",
    "# fid_score = frechet_inception_distance(input_rgb, syn_input_rgb)\n",
    "# print(\"Frechet Inception Distance: \", fid_score)"
   ],
   "id": "8facfceca09d32d",
   "execution_count": null,
   "outputs": []
  },
  {
   "metadata": {},
   "cell_type": "code",
   "source": [],
   "id": "e096decd0448907b",
   "execution_count": null,
   "outputs": []
  }
 ],
 "metadata": {
  "kernelspec": {
   "display_name": "Python 3",
   "language": "python",
   "name": "python3"
  },
  "language_info": {
   "codemirror_mode": {
    "name": "ipython",
    "version": 2
   },
   "file_extension": ".py",
   "mimetype": "text/x-python",
   "name": "python",
   "nbconvert_exporter": "python",
   "pygments_lexer": "ipython2",
   "version": "2.7.6"
  }
 },
 "nbformat": 4,
 "nbformat_minor": 5
}
