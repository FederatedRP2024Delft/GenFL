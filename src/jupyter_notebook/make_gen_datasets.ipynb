{
 "cells": [
  {
   "cell_type": "code",
   "source": [
    "from random import randint\n",
    "import matplotlib.pyplot as plt\n",
    "import torch\n",
    "from src.vae.mnist_vae import ConditionalVae\n",
    "from torchvision import transforms\n",
    "from src.image_classifier.exq_net_v1 import ExquisiteNetV1\n",
    "import torchvision\n",
    "import torch.utils.data\n",
    "\n",
    "device = torch.device('cuda' if torch.cuda.is_available() else 'cpu')"
   ],
   "metadata": {
    "collapsed": false,
    "ExecuteTime": {
     "end_time": "2024-05-24T12:51:44.145115Z",
     "start_time": "2024-05-24T12:51:44.141441Z"
    }
   },
   "outputs": [],
   "execution_count": 4
  },
  {
   "metadata": {
    "ExecuteTime": {
     "end_time": "2024-05-24T12:51:44.531103Z",
     "start_time": "2024-05-24T12:51:44.499174Z"
    }
   },
   "cell_type": "code",
   "source": [
    "# binarize the data\n",
    "apply_transform = transforms.Compose([\n",
    "    transforms.ToTensor(),\n",
    "    transforms.Lambda(lambda x: torch.round(x))\n",
    "])\n",
    "\n",
    "training_data = torchvision.datasets.MNIST(root='../../data/MNIST_train', train=True, download=True, transform=apply_transform)\n",
    "testing_data = torchvision.datasets.MNIST(root='../../data/MNIST_test', train=False, download=True, transform=apply_transform)"
   ],
   "outputs": [],
   "execution_count": 5
  },
  {
   "cell_type": "code",
   "source": [
    "# Train a VAE using normalized MNIST\n",
    "plt.imshow(training_data[0][0][0], cmap='gray')\n",
    "\n",
    "print(training_data[0][0][0])\n",
    "\n",
    "# Use VAE to generate some data\n",
    "cvae = ConditionalVae(dim_encoding=3).to('cuda:0')\n",
    "\n",
    "# try with model sigma\n",
    "vae_model, vae_loss_li, kl_loss_li, reg_loss_li = cvae.train_model(\n",
    "    training_data=training_data,\n",
    "    batch_size=32,\n",
    "    epochs=10,\n",
    "    learning_rate=0.001\n",
    ")"
   ],
   "metadata": {
    "collapsed": false,
    "ExecuteTime": {
     "end_time": "2024-05-24T12:53:12.573884Z",
     "start_time": "2024-05-24T12:51:45.920628Z"
    }
   },
   "outputs": [
    {
     "name": "stdout",
     "output_type": "stream",
     "text": [
      "tensor([[0., 0., 0., 0., 0., 0., 0., 0., 0., 0., 0., 0., 0., 0., 0., 0., 0., 0.,\n",
      "         0., 0., 0., 0., 0., 0., 0., 0., 0., 0.],\n",
      "        [0., 0., 0., 0., 0., 0., 0., 0., 0., 0., 0., 0., 0., 0., 0., 0., 0., 0.,\n",
      "         0., 0., 0., 0., 0., 0., 0., 0., 0., 0.],\n",
      "        [0., 0., 0., 0., 0., 0., 0., 0., 0., 0., 0., 0., 0., 0., 0., 0., 0., 0.,\n",
      "         0., 0., 0., 0., 0., 0., 0., 0., 0., 0.],\n",
      "        [0., 0., 0., 0., 0., 0., 0., 0., 0., 0., 0., 0., 0., 0., 0., 0., 0., 0.,\n",
      "         0., 0., 0., 0., 0., 0., 0., 0., 0., 0.],\n",
      "        [0., 0., 0., 0., 0., 0., 0., 0., 0., 0., 0., 0., 0., 0., 0., 0., 0., 0.,\n",
      "         0., 0., 0., 0., 0., 0., 0., 0., 0., 0.],\n",
      "        [0., 0., 0., 0., 0., 0., 0., 0., 0., 0., 0., 0., 0., 0., 0., 0., 0., 1.,\n",
      "         1., 0., 1., 1., 1., 0., 0., 0., 0., 0.],\n",
      "        [0., 0., 0., 0., 0., 0., 0., 0., 0., 0., 0., 1., 1., 1., 1., 1., 1., 1.,\n",
      "         1., 1., 1., 1., 1., 0., 0., 0., 0., 0.],\n",
      "        [0., 0., 0., 0., 0., 0., 0., 0., 1., 1., 1., 1., 1., 1., 1., 1., 1., 1.,\n",
      "         0., 0., 0., 0., 0., 0., 0., 0., 0., 0.],\n",
      "        [0., 0., 0., 0., 0., 0., 0., 0., 1., 1., 1., 1., 1., 1., 1., 1., 1., 1.,\n",
      "         0., 0., 0., 0., 0., 0., 0., 0., 0., 0.],\n",
      "        [0., 0., 0., 0., 0., 0., 0., 0., 0., 1., 0., 1., 1., 1., 0., 0., 0., 1.,\n",
      "         0., 0., 0., 0., 0., 0., 0., 0., 0., 0.],\n",
      "        [0., 0., 0., 0., 0., 0., 0., 0., 0., 0., 0., 1., 1., 0., 0., 0., 0., 0.,\n",
      "         0., 0., 0., 0., 0., 0., 0., 0., 0., 0.],\n",
      "        [0., 0., 0., 0., 0., 0., 0., 0., 0., 0., 0., 1., 1., 1., 0., 0., 0., 0.,\n",
      "         0., 0., 0., 0., 0., 0., 0., 0., 0., 0.],\n",
      "        [0., 0., 0., 0., 0., 0., 0., 0., 0., 0., 0., 0., 1., 1., 0., 0., 0., 0.,\n",
      "         0., 0., 0., 0., 0., 0., 0., 0., 0., 0.],\n",
      "        [0., 0., 0., 0., 0., 0., 0., 0., 0., 0., 0., 0., 0., 1., 1., 1., 0., 0.,\n",
      "         0., 0., 0., 0., 0., 0., 0., 0., 0., 0.],\n",
      "        [0., 0., 0., 0., 0., 0., 0., 0., 0., 0., 0., 0., 0., 0., 1., 1., 1., 0.,\n",
      "         0., 0., 0., 0., 0., 0., 0., 0., 0., 0.],\n",
      "        [0., 0., 0., 0., 0., 0., 0., 0., 0., 0., 0., 0., 0., 0., 0., 1., 1., 1.,\n",
      "         1., 0., 0., 0., 0., 0., 0., 0., 0., 0.],\n",
      "        [0., 0., 0., 0., 0., 0., 0., 0., 0., 0., 0., 0., 0., 0., 0., 0., 0., 1.,\n",
      "         1., 1., 0., 0., 0., 0., 0., 0., 0., 0.],\n",
      "        [0., 0., 0., 0., 0., 0., 0., 0., 0., 0., 0., 0., 0., 0., 0., 0., 0., 1.,\n",
      "         1., 1., 0., 0., 0., 0., 0., 0., 0., 0.],\n",
      "        [0., 0., 0., 0., 0., 0., 0., 0., 0., 0., 0., 0., 0., 0., 0., 1., 1., 1.,\n",
      "         1., 1., 0., 0., 0., 0., 0., 0., 0., 0.],\n",
      "        [0., 0., 0., 0., 0., 0., 0., 0., 0., 0., 0., 0., 0., 1., 1., 1., 1., 1.,\n",
      "         1., 1., 0., 0., 0., 0., 0., 0., 0., 0.],\n",
      "        [0., 0., 0., 0., 0., 0., 0., 0., 0., 0., 0., 0., 1., 1., 1., 1., 1., 1.,\n",
      "         0., 0., 0., 0., 0., 0., 0., 0., 0., 0.],\n",
      "        [0., 0., 0., 0., 0., 0., 0., 0., 0., 0., 1., 1., 1., 1., 1., 1., 0., 0.,\n",
      "         0., 0., 0., 0., 0., 0., 0., 0., 0., 0.],\n",
      "        [0., 0., 0., 0., 0., 0., 0., 1., 1., 1., 1., 1., 1., 1., 0., 0., 0., 0.,\n",
      "         0., 0., 0., 0., 0., 0., 0., 0., 0., 0.],\n",
      "        [0., 0., 0., 0., 0., 1., 1., 1., 1., 1., 1., 1., 1., 0., 0., 0., 0., 0.,\n",
      "         0., 0., 0., 0., 0., 0., 0., 0., 0., 0.],\n",
      "        [0., 0., 0., 0., 1., 1., 1., 1., 1., 1., 1., 0., 0., 0., 0., 0., 0., 0.,\n",
      "         0., 0., 0., 0., 0., 0., 0., 0., 0., 0.],\n",
      "        [0., 0., 0., 0., 0., 0., 0., 0., 0., 0., 0., 0., 0., 0., 0., 0., 0., 0.,\n",
      "         0., 0., 0., 0., 0., 0., 0., 0., 0., 0.],\n",
      "        [0., 0., 0., 0., 0., 0., 0., 0., 0., 0., 0., 0., 0., 0., 0., 0., 0., 0.,\n",
      "         0., 0., 0., 0., 0., 0., 0., 0., 0., 0.],\n",
      "        [0., 0., 0., 0., 0., 0., 0., 0., 0., 0., 0., 0., 0., 0., 0., 0., 0., 0.,\n",
      "         0., 0., 0., 0., 0., 0., 0., 0., 0., 0.]])\n",
      "vl_loss: 1.3082787990570068\n",
      "Finished epoch:  1\n",
      "vl_loss: 2.6083381175994873\n",
      "Finished epoch:  2\n",
      "vl_loss: 3.887516975402832\n",
      "Finished epoch:  3\n",
      "vl_loss: 5.1665449142456055\n",
      "Finished epoch:  4\n",
      "vl_loss: 6.472609519958496\n",
      "Finished epoch:  5\n",
      "vl_loss: 7.7572712898254395\n",
      "Finished epoch:  6\n",
      "vl_loss: 9.04238510131836\n",
      "Finished epoch:  7\n",
      "vl_loss: 10.347818374633789\n",
      "Finished epoch:  8\n",
      "vl_loss: 11.62536907196045\n",
      "Finished epoch:  9\n",
      "vl_loss: 12.896971702575684\n",
      "Finished epoch:  10\n"
     ]
    },
    {
     "data": {
      "text/plain": [
       "<Figure size 640x480 with 1 Axes>"
      ],
      "image/png": "[encoded data removed]"
     },
     "metadata": {},
     "output_type": "display_data"
    }
   ],
   "execution_count": 6
  },
  {
   "metadata": {
    "ExecuteTime": {
     "end_time": "2024-05-24T12:53:50.720055Z",
     "start_time": "2024-05-24T12:53:41.073219Z"
    }
   },
   "cell_type": "code",
   "source": [
    "# generate images for training on classifier\n",
    "data_count = 60000\n",
    "\n",
    "generated_dataset = []\n",
    "uniform_digits = [randint(0, 9) for _ in range(data_count)]\n",
    "for i in uniform_digits:\n",
    "    generated_image = cvae.generate_data(n_samples=1, target_label=i).squeeze(1)\n",
    "    multiplier = 1.0/generated_image.max().item()\n",
    "    transformed_image = torch.round(generated_image*multiplier)\n",
    "    generated_dataset.append((transformed_image, i))\n",
    "    \n",
    "to_be_zipped = []\n",
    "for image_ind in range(data_count):\n",
    "    to_be_zipped.append(\n",
    "        (generated_dataset[image_ind][0], generated_dataset[image_ind][1])\n",
    "    )\n",
    "initial_dataset = torch.tensor([])\n",
    "binarized_training_data = torch.utils.data.ConcatDataset([initial_dataset, to_be_zipped])"
   ],
   "outputs": [],
   "execution_count": 7
  },
  {
   "cell_type": "code",
   "source": [
    "batch_size = 64\n",
    "epoch = 5\n",
    "learning_rate = 0.01\n",
    "\n",
    "classifier = ExquisiteNetV1(class_num=10, img_channels=1)\n",
    "classifier.to(device)\n",
    "classifier.train_model(binarized_training_data, testing_data, batch_size=batch_size, learning_rate=learning_rate, epochs=epoch)"
   ],
   "metadata": {
    "collapsed": false,
    "ExecuteTime": {
     "end_time": "2024-05-24T12:55:07.898357Z",
     "start_time": "2024-05-24T12:53:55.365533Z"
    }
   },
   "outputs": [
    {
     "name": "stderr",
     "output_type": "stream",
     "text": [
      "/home/neo/projects/Federated-Learning-PyTorch/venv/lib/python3.12/site-packages/torch/nn/modules/conv.py:456: UserWarning: Plan failed with a cudnnException: CUDNN_BACKEND_EXECUTION_PLAN_DESCRIPTOR: cudnnFinalize Descriptor Failed cudnn_status: CUDNN_STATUS_NOT_SUPPORTED (Triggered internally at ../aten/src/ATen/native/cudnn/Conv_v8.cpp:919.)\n",
      "  return F.conv2d(input, weight, bias, self.stride,\n",
      "/home/neo/projects/Federated-Learning-PyTorch/venv/lib/python3.12/site-packages/torch/autograd/graph.py:744: UserWarning: Plan failed with a cudnnException: CUDNN_BACKEND_EXECUTION_PLAN_DESCRIPTOR: cudnnFinalize Descriptor Failed cudnn_status: CUDNN_STATUS_NOT_SUPPORTED (Triggered internally at ../aten/src/ATen/native/cudnn/Conv_v8.cpp:919.)\n",
      "  return Variable._execution_engine.run_backward(  # Calls into the C++ engine to run the backward pass\n"
     ]
    },
    {
     "name": "stdout",
     "output_type": "stream",
     "text": [
      "Epoch done:  1\n",
      "Training loss:  0.004759947769343853\n",
      "Testing loss:  -0.9684890527634104\n",
      "Epoch done:  2\n",
      "Training loss:  0.0036190187092870474\n",
      "Testing loss:  -1.0680902140915016\n",
      "Epoch done:  3\n",
      "Training loss:  0.0017668011132627726\n",
      "Testing loss:  -1.1209823834668293\n",
      "Epoch done:  4\n",
      "Training loss:  0.0009785881265997887\n",
      "Testing loss:  -1.1648557281038565\n",
      "Epoch done:  5\n",
      "Training loss:  0.0011354731395840645\n",
      "Testing loss:  -1.1910375208611703\n"
     ]
    }
   ],
   "execution_count": 8
  },
  {
   "cell_type": "code",
   "source": [
    "# test on real data\n",
    "accuracy, loss, f1_macro, f1_micro = classifier.test_inference(testing_data, batch_size)\n",
    "\n",
    "print(accuracy)\n",
    "print(loss)\n",
    "print(f1_macro)\n",
    "print(f1_micro)"
   ],
   "metadata": {
    "collapsed": false,
    "ExecuteTime": {
     "end_time": "2024-05-24T12:55:11.520679Z",
     "start_time": "2024-05-24T12:55:10.208802Z"
    }
   },
   "outputs": [
    {
     "name": "stdout",
     "output_type": "stream",
     "text": [
      "0.3092\n",
      "-1.1964832832858834\n",
      "0.29369261451387074\n",
      "0.3092\n"
     ]
    }
   ],
   "execution_count": 9
  },
  {
   "metadata": {},
   "cell_type": "code",
   "outputs": [],
   "execution_count": null,
   "source": ""
  }
 ],
 "metadata": {
  "kernelspec": {
   "display_name": "Python 3",
   "language": "python",
   "name": "python3"
  },
  "language_info": {
   "codemirror_mode": {
    "name": "ipython",
    "version": 2
   },
   "file_extension": ".py",
   "mimetype": "text/x-python",
   "name": "python",
   "nbconvert_exporter": "python",
   "pygments_lexer": "ipython2",
   "version": "2.7.6"
  }
 },
 "nbformat": 4,
 "nbformat_minor": 0
}
