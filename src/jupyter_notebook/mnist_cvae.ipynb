{
 "cells": [
  {
   "cell_type": "code",
   "id": "initial_id",
   "metadata": {
    "collapsed": true,
    "ExecuteTime": {
     "end_time": "2024-05-22T07:05:05.054548Z",
     "start_time": "2024-05-22T07:05:02.910806Z"
    }
   },
   "source": [
    "import os\n",
    "import torchvision\n",
    "\n",
    "from torch import cuda, device, Tensor, save, load, stack, zeros, vstack, squeeze\n",
    "from src.plots import plot_vae_training_result, plot_image, plot_image_label_two\n",
    "from src.vae.mnist_vae import ConditionalVae\n",
    "from src.image_classifier.image_classifier import MNISTClassifier\n",
    "from src.image_classifier.exq_net_v1 import ExquisiteNetV1\n",
    "\n",
    "from src.utils import frechet_inception_distance\n",
    "from src.sampling import split_dirichlet\n",
    "\n",
    "device = device('cuda' if cuda.is_available() else 'cpu')"
   ],
   "outputs": [],
   "execution_count": 1
  },
  {
   "metadata": {
    "ExecuteTime": {
     "end_time": "2024-05-22T07:05:05.330853Z",
     "start_time": "2024-05-22T07:05:05.151621Z"
    }
   },
   "cell_type": "code",
   "source": [
    "num_data = 60000\n",
    "\n",
    "training_data = torchvision.datasets.MNIST(root='../../data/MNIST_train', train=True, download=True, transform=torchvision.transforms.ToTensor())\n",
    "testing_data = torchvision.datasets.MNIST(root='../../data/MNIST_test', train=False, download=True, transform=torchvision.transforms.ToTensor())\n",
    "\n",
    "input = training_data.data[:num_data]\n",
    "labels = training_data.targets[:num_data]"
   ],
   "id": "b76aa94a15dd1c0e",
   "outputs": [],
   "execution_count": 2
  },
  {
   "metadata": {
    "ExecuteTime": {
     "end_time": "2024-05-22T07:05:08.861346Z",
     "start_time": "2024-05-22T07:05:08.664609Z"
    }
   },
   "cell_type": "code",
   "source": [
    "# parameters\n",
    "model = \"cvae\"\n",
    "dataset = \"mnist\"\n",
    "batch_size = 64\n",
    "epoch = 10\n",
    "learning_rate = 0.01\n",
    "\n",
    "model_path = f\"../../models/{model}_{dataset}_{batch_size}_{epoch}_{learning_rate}.pt\"\n",
    "\n",
    "if os.path.exists(model_path):\n",
    "    vae = load(model_path)\n",
    "else:\n",
    "    vae = ConditionalVae(dim_encoding=3).to(device)\n",
    "\n",
    "    vae_model, vae_loss_li, kl_loss_li = vae.train_model(\n",
    "        training_data=training_data,\n",
    "        batch_size=batch_size,\n",
    "        epochs=epoch,\n",
    "        learning_rate=learning_rate\n",
    "    )\n",
    "    save(vae, model_path)\n",
    "    \n",
    "    # move tensors to cpu before converting to np array\n",
    "    np_kl_loss_li = []\n",
    "    \n",
    "    for output in kl_loss_li:\n",
    "        if isinstance(output, Tensor):\n",
    "            np_kl_loss_li.append(output.cpu().detach().numpy())\n",
    "    \n",
    "    # plot results\n",
    "    plot_vae_training_result(\n",
    "        input=input,\n",
    "        labels=labels,\n",
    "        vae_model=vae_model,\n",
    "        vae_loss_li=vae_loss_li,\n",
    "        kl_loss_li=np_kl_loss_li\n",
    "    )"
   ],
   "id": "415ddc3205ecd96b",
   "outputs": [],
   "execution_count": 3
  },
  {
   "metadata": {
    "ExecuteTime": {
     "end_time": "2024-05-21T15:57:49.771466Z",
     "start_time": "2024-05-21T15:57:49.719169Z"
    }
   },
   "cell_type": "code",
   "source": [
    "training_data.data = training_data.data / 255.0\n",
    "print(training_data.data[:1000].mean().item())\n",
    "print(training_data.data[1])"
   ],
   "id": "f6cf4df43b41c4da",
   "outputs": [
    {
     "name": "stdout",
     "output_type": "stream",
     "text": [
      "0.1282389611005783\n",
      "tensor([[0.0000, 0.0000, 0.0000, 0.0000, 0.0000, 0.0000, 0.0000, 0.0000, 0.0000,\n",
      "         0.0000, 0.0000, 0.0000, 0.0000, 0.0000, 0.0000, 0.0000, 0.0000, 0.0000,\n",
      "         0.0000, 0.0000, 0.0000, 0.0000, 0.0000, 0.0000, 0.0000, 0.0000, 0.0000,\n",
      "         0.0000],\n",
      "        [0.0000, 0.0000, 0.0000, 0.0000, 0.0000, 0.0000, 0.0000, 0.0000, 0.0000,\n",
      "         0.0000, 0.0000, 0.0000, 0.0000, 0.0000, 0.0000, 0.0000, 0.0000, 0.0000,\n",
      "         0.0000, 0.0000, 0.0000, 0.0000, 0.0000, 0.0000, 0.0000, 0.0000, 0.0000,\n",
      "         0.0000],\n",
      "        [0.0000, 0.0000, 0.0000, 0.0000, 0.0000, 0.0000, 0.0000, 0.0000, 0.0000,\n",
      "         0.0000, 0.0000, 0.0000, 0.0000, 0.0000, 0.0000, 0.0000, 0.0000, 0.0000,\n",
      "         0.0000, 0.0000, 0.0000, 0.0000, 0.0000, 0.0000, 0.0000, 0.0000, 0.0000,\n",
      "         0.0000],\n",
      "        [0.0000, 0.0000, 0.0000, 0.0000, 0.0000, 0.0000, 0.0000, 0.0000, 0.0000,\n",
      "         0.0000, 0.0000, 0.0000, 0.0000, 0.0000, 0.0000, 0.0000, 0.0000, 0.0000,\n",
      "         0.0000, 0.0000, 0.0000, 0.0000, 0.0000, 0.0000, 0.0000, 0.0000, 0.0000,\n",
      "         0.0000],\n",
      "        [0.0000, 0.0000, 0.0000, 0.0000, 0.0000, 0.0000, 0.0000, 0.0000, 0.0000,\n",
      "         0.0000, 0.0000, 0.0000, 0.0000, 0.0000, 0.0000, 0.2000, 0.6235, 0.9922,\n",
      "         0.6235, 0.1961, 0.0000, 0.0000, 0.0000, 0.0000, 0.0000, 0.0000, 0.0000,\n",
      "         0.0000],\n",
      "        [0.0000, 0.0000, 0.0000, 0.0000, 0.0000, 0.0000, 0.0000, 0.0000, 0.0000,\n",
      "         0.0000, 0.0000, 0.0000, 0.0000, 0.0000, 0.1882, 0.9333, 0.9882, 0.9882,\n",
      "         0.9882, 0.9294, 0.0000, 0.0000, 0.0000, 0.0000, 0.0000, 0.0000, 0.0000,\n",
      "         0.0000],\n",
      "        [0.0000, 0.0000, 0.0000, 0.0000, 0.0000, 0.0000, 0.0000, 0.0000, 0.0000,\n",
      "         0.0000, 0.0000, 0.0000, 0.0000, 0.2118, 0.8902, 0.9922, 0.9882, 0.9373,\n",
      "         0.9137, 0.9882, 0.2235, 0.0235, 0.0000, 0.0000, 0.0000, 0.0000, 0.0000,\n",
      "         0.0000],\n",
      "        [0.0000, 0.0000, 0.0000, 0.0000, 0.0000, 0.0000, 0.0000, 0.0000, 0.0000,\n",
      "         0.0000, 0.0000, 0.0392, 0.2353, 0.8784, 0.9882, 0.9922, 0.9882, 0.7922,\n",
      "         0.3294, 0.9882, 0.9922, 0.4784, 0.0000, 0.0000, 0.0000, 0.0000, 0.0000,\n",
      "         0.0000],\n",
      "        [0.0000, 0.0000, 0.0000, 0.0000, 0.0000, 0.0000, 0.0000, 0.0000, 0.0000,\n",
      "         0.0000, 0.0000, 0.6392, 0.9882, 0.9882, 0.9882, 0.9922, 0.9882, 0.9882,\n",
      "         0.3765, 0.7412, 0.9922, 0.6549, 0.0000, 0.0000, 0.0000, 0.0000, 0.0000,\n",
      "         0.0000],\n",
      "        [0.0000, 0.0000, 0.0000, 0.0000, 0.0000, 0.0000, 0.0000, 0.0000, 0.0000,\n",
      "         0.0000, 0.2000, 0.9333, 0.9922, 0.9922, 0.7451, 0.4471, 0.9922, 0.8941,\n",
      "         0.1843, 0.3098, 1.0000, 0.6588, 0.0000, 0.0000, 0.0000, 0.0000, 0.0000,\n",
      "         0.0000],\n",
      "        [0.0000, 0.0000, 0.0000, 0.0000, 0.0000, 0.0000, 0.0000, 0.0000, 0.0000,\n",
      "         0.1882, 0.9333, 0.9882, 0.9882, 0.7020, 0.0471, 0.2941, 0.4745, 0.0824,\n",
      "         0.0000, 0.0000, 0.9922, 0.9529, 0.1961, 0.0000, 0.0000, 0.0000, 0.0000,\n",
      "         0.0000],\n",
      "        [0.0000, 0.0000, 0.0000, 0.0000, 0.0000, 0.0000, 0.0000, 0.0000, 0.1490,\n",
      "         0.6471, 0.9922, 0.9137, 0.8157, 0.3294, 0.0000, 0.0000, 0.0000, 0.0000,\n",
      "         0.0000, 0.0000, 0.9922, 0.9882, 0.6471, 0.0000, 0.0000, 0.0000, 0.0000,\n",
      "         0.0000],\n",
      "        [0.0000, 0.0000, 0.0000, 0.0000, 0.0000, 0.0000, 0.0000, 0.0275, 0.6980,\n",
      "         0.9882, 0.9412, 0.2784, 0.0745, 0.1098, 0.0000, 0.0000, 0.0000, 0.0000,\n",
      "         0.0000, 0.0000, 0.9922, 0.9882, 0.7647, 0.0000, 0.0000, 0.0000, 0.0000,\n",
      "         0.0000],\n",
      "        [0.0000, 0.0000, 0.0000, 0.0000, 0.0000, 0.0000, 0.0000, 0.2235, 0.9882,\n",
      "         0.9882, 0.2471, 0.0000, 0.0000, 0.0000, 0.0000, 0.0000, 0.0000, 0.0000,\n",
      "         0.0000, 0.0000, 0.9922, 0.9882, 0.7647, 0.0000, 0.0000, 0.0000, 0.0000,\n",
      "         0.0000],\n",
      "        [0.0000, 0.0000, 0.0000, 0.0000, 0.0000, 0.0000, 0.0000, 0.7765, 0.9922,\n",
      "         0.7451, 0.0000, 0.0000, 0.0000, 0.0000, 0.0000, 0.0000, 0.0000, 0.0000,\n",
      "         0.0000, 0.0000, 1.0000, 0.9922, 0.7686, 0.0000, 0.0000, 0.0000, 0.0000,\n",
      "         0.0000],\n",
      "        [0.0000, 0.0000, 0.0000, 0.0000, 0.0000, 0.0000, 0.2980, 0.9647, 0.9882,\n",
      "         0.4392, 0.0000, 0.0000, 0.0000, 0.0000, 0.0000, 0.0000, 0.0000, 0.0000,\n",
      "         0.0000, 0.0000, 0.9922, 0.9882, 0.5804, 0.0000, 0.0000, 0.0000, 0.0000,\n",
      "         0.0000],\n",
      "        [0.0000, 0.0000, 0.0000, 0.0000, 0.0000, 0.0000, 0.3333, 0.9882, 0.9020,\n",
      "         0.0980, 0.0000, 0.0000, 0.0000, 0.0000, 0.0000, 0.0000, 0.0000, 0.0000,\n",
      "         0.0275, 0.5294, 0.9922, 0.7294, 0.0471, 0.0000, 0.0000, 0.0000, 0.0000,\n",
      "         0.0000],\n",
      "        [0.0000, 0.0000, 0.0000, 0.0000, 0.0000, 0.0000, 0.3333, 0.9882, 0.8745,\n",
      "         0.0000, 0.0000, 0.0000, 0.0000, 0.0000, 0.0000, 0.0000, 0.0000, 0.0275,\n",
      "         0.5137, 0.9882, 0.8824, 0.2784, 0.0000, 0.0000, 0.0000, 0.0000, 0.0000,\n",
      "         0.0000],\n",
      "        [0.0000, 0.0000, 0.0000, 0.0000, 0.0000, 0.0000, 0.3333, 0.9882, 0.5686,\n",
      "         0.0000, 0.0000, 0.0000, 0.0000, 0.0000, 0.0000, 0.0000, 0.1882, 0.6471,\n",
      "         0.9882, 0.6784, 0.0000, 0.0000, 0.0000, 0.0000, 0.0000, 0.0000, 0.0000,\n",
      "         0.0000],\n",
      "        [0.0000, 0.0000, 0.0000, 0.0000, 0.0000, 0.0000, 0.3373, 0.9922, 0.8824,\n",
      "         0.0000, 0.0000, 0.0000, 0.0000, 0.0000, 0.0000, 0.4471, 0.9333, 0.9922,\n",
      "         0.6353, 0.0000, 0.0000, 0.0000, 0.0000, 0.0000, 0.0000, 0.0000, 0.0000,\n",
      "         0.0000],\n",
      "        [0.0000, 0.0000, 0.0000, 0.0000, 0.0000, 0.0000, 0.3333, 0.9882, 0.9765,\n",
      "         0.5725, 0.1882, 0.1137, 0.3333, 0.6980, 0.8824, 0.9922, 0.8745, 0.6549,\n",
      "         0.2196, 0.0000, 0.0000, 0.0000, 0.0000, 0.0000, 0.0000, 0.0000, 0.0000,\n",
      "         0.0000],\n",
      "        [0.0000, 0.0000, 0.0000, 0.0000, 0.0000, 0.0000, 0.3333, 0.9882, 0.9882,\n",
      "         0.9882, 0.8980, 0.8431, 0.9882, 0.9882, 0.9882, 0.7686, 0.5098, 0.0000,\n",
      "         0.0000, 0.0000, 0.0000, 0.0000, 0.0000, 0.0000, 0.0000, 0.0000, 0.0000,\n",
      "         0.0000],\n",
      "        [0.0000, 0.0000, 0.0000, 0.0000, 0.0000, 0.0000, 0.1098, 0.7804, 0.9882,\n",
      "         0.9882, 0.9922, 0.9882, 0.9882, 0.9137, 0.5686, 0.0000, 0.0000, 0.0000,\n",
      "         0.0000, 0.0000, 0.0000, 0.0000, 0.0000, 0.0000, 0.0000, 0.0000, 0.0000,\n",
      "         0.0000],\n",
      "        [0.0000, 0.0000, 0.0000, 0.0000, 0.0000, 0.0000, 0.0000, 0.0980, 0.5020,\n",
      "         0.9882, 0.9922, 0.9882, 0.5529, 0.1451, 0.0000, 0.0000, 0.0000, 0.0000,\n",
      "         0.0000, 0.0000, 0.0000, 0.0000, 0.0000, 0.0000, 0.0000, 0.0000, 0.0000,\n",
      "         0.0000],\n",
      "        [0.0000, 0.0000, 0.0000, 0.0000, 0.0000, 0.0000, 0.0000, 0.0000, 0.0000,\n",
      "         0.0000, 0.0000, 0.0000, 0.0000, 0.0000, 0.0000, 0.0000, 0.0000, 0.0000,\n",
      "         0.0000, 0.0000, 0.0000, 0.0000, 0.0000, 0.0000, 0.0000, 0.0000, 0.0000,\n",
      "         0.0000],\n",
      "        [0.0000, 0.0000, 0.0000, 0.0000, 0.0000, 0.0000, 0.0000, 0.0000, 0.0000,\n",
      "         0.0000, 0.0000, 0.0000, 0.0000, 0.0000, 0.0000, 0.0000, 0.0000, 0.0000,\n",
      "         0.0000, 0.0000, 0.0000, 0.0000, 0.0000, 0.0000, 0.0000, 0.0000, 0.0000,\n",
      "         0.0000],\n",
      "        [0.0000, 0.0000, 0.0000, 0.0000, 0.0000, 0.0000, 0.0000, 0.0000, 0.0000,\n",
      "         0.0000, 0.0000, 0.0000, 0.0000, 0.0000, 0.0000, 0.0000, 0.0000, 0.0000,\n",
      "         0.0000, 0.0000, 0.0000, 0.0000, 0.0000, 0.0000, 0.0000, 0.0000, 0.0000,\n",
      "         0.0000],\n",
      "        [0.0000, 0.0000, 0.0000, 0.0000, 0.0000, 0.0000, 0.0000, 0.0000, 0.0000,\n",
      "         0.0000, 0.0000, 0.0000, 0.0000, 0.0000, 0.0000, 0.0000, 0.0000, 0.0000,\n",
      "         0.0000, 0.0000, 0.0000, 0.0000, 0.0000, 0.0000, 0.0000, 0.0000, 0.0000,\n",
      "         0.0000]])\n"
     ]
    }
   ],
   "execution_count": 76
  },
  {
   "metadata": {
    "ExecuteTime": {
     "end_time": "2024-05-22T07:05:29.573995Z",
     "start_time": "2024-05-22T07:05:29.536117Z"
    }
   },
   "cell_type": "code",
   "source": [
    "# for i in range(10):\n",
    "\n",
    "images = vae.generate_data(n_samples=5, target_label=0)\n",
    "print(images.shape)\n",
    "# plot_image(images)\n",
    "# \n",
    "# print(vae.generate_data(n_samples=1000, target_label=0).mean().item() * 0.75)\n",
    "# print(vae.generate_data(n_samples=1, target_label=1))\n"
   ],
   "id": "8c38d9f63fe4cdfc",
   "outputs": [
    {
     "name": "stdout",
     "output_type": "stream",
     "text": [
      "torch.Size([5, 1, 28, 28])\n"
     ]
    }
   ],
   "execution_count": 4
  },
  {
   "metadata": {
    "ExecuteTime": {
     "end_time": "2024-05-21T15:02:59.580933Z",
     "start_time": "2024-05-21T15:02:05.039988Z"
    }
   },
   "cell_type": "code",
   "source": [
    "# simple classifier for performance evaluation\n",
    "model = \"classifier\"\n",
    "dataset = \"mnist\"\n",
    "batch_size = 64\n",
    "epoch = 10\n",
    "\n",
    "classifier_path = f\"../../models/{model}_{dataset}_{batch_size}_{epoch}.pt\"\n",
    "\n",
    "# if os.path.exists(classifier_path):\n",
    "#     classifier = load(classifier_path)\n",
    "# else:\n",
    "classifier = MNISTClassifier(input_size=784, num_classes=10)\n",
    "classifier.train_model(training_data, batch_size=batch_size, epochs=epoch)\n",
    "accuracy = classifier.test_model(testing_data)\n",
    "print(\"Test accuracy: \", accuracy)\n",
    "save(classifier, classifier_path)"
   ],
   "id": "fe1a2dca5fdd06bb",
   "outputs": [
    {
     "name": "stdout",
     "output_type": "stream",
     "text": [
      "Epoch done:  1\n",
      "Epoch done:  2\n",
      "Epoch done:  3\n",
      "Epoch done:  4\n",
      "Epoch done:  5\n",
      "Epoch done:  6\n",
      "Epoch done:  7\n",
      "Epoch done:  8\n",
      "Epoch done:  9\n",
      "Epoch done:  10\n",
      "6217\n",
      "3783\n",
      "Test accuracy:  0.6217\n"
     ]
    }
   ],
   "execution_count": 3
  },
  {
   "metadata": {
    "ExecuteTime": {
     "end_time": "2024-05-21T10:43:30.697323Z",
     "start_time": "2024-05-21T10:42:57.888371Z"
    }
   },
   "cell_type": "code",
   "source": [
    "# CNN classifier for performance evaluation\n",
    "model = \"classifier\"\n",
    "dataset = \"mnist\"\n",
    "batch_size = 64\n",
    "learning_rate = 0.01\n",
    "epoch = 10\n",
    "\n",
    "classifier = ExquisiteNetV1(class_num=10, img_channels=1)\n",
    "\n",
    "classifier.to(device)\n",
    "classifier.train_model(training_data, testing_data, batch_size=batch_size, learning_rate=learning_rate, epochs=epoch)\n",
    "accuracy, loss, f1_macro, f1_micro = classifier.test_inference(testing_data, batch_size=batch_size)\n",
    "print(accuracy, loss, f1_macro, f1_micro)"
   ],
   "id": "df4a3ff9bed11884",
   "outputs": [
    {
     "name": "stderr",
     "output_type": "stream",
     "text": [
      "/home/neo/projects/Federated-Learning-PyTorch/venv/lib/python3.12/site-packages/torch/nn/modules/conv.py:456: UserWarning: Plan failed with a cudnnException: CUDNN_BACKEND_EXECUTION_PLAN_DESCRIPTOR: cudnnFinalize Descriptor Failed cudnn_status: CUDNN_STATUS_NOT_SUPPORTED (Triggered internally at ../aten/src/ATen/native/cudnn/Conv_v8.cpp:919.)\n",
      "  return F.conv2d(input, weight, bias, self.stride,\n",
      "/home/neo/projects/Federated-Learning-PyTorch/venv/lib/python3.12/site-packages/torch/autograd/graph.py:744: UserWarning: Plan failed with a cudnnException: CUDNN_BACKEND_EXECUTION_PLAN_DESCRIPTOR: cudnnFinalize Descriptor Failed cudnn_status: CUDNN_STATUS_NOT_SUPPORTED (Triggered internally at ../aten/src/ATen/native/cudnn/Conv_v8.cpp:919.)\n",
      "  return Variable._execution_engine.run_backward(  # Calls into the C++ engine to run the backward pass\n"
     ]
    },
    {
     "name": "stdout",
     "output_type": "stream",
     "text": [
      "Epoch done:  1\n",
      "Training loss:  0.7095406651496887\n",
      "Testing loss:  -5.4622869461205354\n",
      "Epoch done:  2\n",
      "Training loss:  0.2347443401813507\n",
      "Testing loss:  -7.178951375803371\n"
     ]
    }
   ],
   "execution_count": 5
  },
  {
   "metadata": {
    "ExecuteTime": {
     "end_time": "2024-05-20T19:21:36.133358Z",
     "start_time": "2024-05-20T19:21:34.852848Z"
    }
   },
   "cell_type": "code",
   "source": [
    "# generate data for testing on classifier\n",
    "# this one stays the same\n",
    "data_count = 10000\n",
    "ratios = [0.1, 0.1, 0.1, 0.1, 0.1, 0.1, 0.1, 0.1, 0.1, 0.1]\n",
    "images = []\n",
    "labels = []\n",
    "\n",
    "for label_idx, ratio in enumerate(ratios):\n",
    "    num_samples_to_generate = int(data_count * ratio)\n",
    "    images.append(vae.generate_data(n_samples=num_samples_to_generate, target_label=label_idx).cpu().detach())\n",
    "    \n",
    "    label = zeros((num_samples_to_generate, 10), device=device)\n",
    "    label[:, label_idx] = 1\n",
    "    labels.append(label.cpu().detach())\n",
    "\n",
    "final_images = vstack(images)\n",
    "final_labels = vstack(labels)\n",
    "\n",
    "assert final_images.shape[0] == final_labels.shape[0]\n",
    "\n",
    "accuracy = classifier.test_model_syn_img_label(final_images, final_labels)\n",
    "print(\"Accuracy: \", accuracy)"
   ],
   "id": "f89dd26fff6ecb7c",
   "outputs": [
    {
     "name": "stdout",
     "output_type": "stream",
     "text": [
      "Accuracy:  0.9993\n"
     ]
    }
   ],
   "execution_count": 6
  },
  {
   "metadata": {
    "ExecuteTime": {
     "end_time": "2024-05-20T10:08:40.161761Z",
     "start_time": "2024-05-20T10:08:40.122190Z"
    }
   },
   "cell_type": "code",
   "source": [
    "# Determine FID\n",
    "# generate 500 images\n",
    "# normalizing necessary to make pixels in [0, 1] range for FID\n",
    "\n",
    "testing_data = torchvision.datasets.MNIST(root='../../data/MNIST_test', train=False, download=True, transform=torchvision.transforms.ToTensor())\n",
    "\n",
    "num_data = 400\n",
    "\n",
    "input = testing_data.data[:num_data] / 255.0\n",
    "syn_input = vae.generate_data(n_samples=num_data)\n",
    "\n",
    "input_rgb = input.view(-1, 1, 28, 28).repeat(1, 3, 1, 1)\n",
    "syn_input_rgb = syn_input.view(-1, 1, 28, 28).repeat(1, 3, 1, 1)\n",
    "\n",
    "# compute FID score\n",
    "fid_score = frechet_inception_distance(input_rgb, syn_input_rgb)\n",
    "print(\"Frechet Inception Distance: \", fid_score)"
   ],
   "id": "8facfceca09d32d",
   "outputs": [
    {
     "ename": "NameError",
     "evalue": "name 'vae' is not defined",
     "output_type": "error",
     "traceback": [
      "\u001B[0;31m---------------------------------------------------------------------------\u001B[0m",
      "\u001B[0;31mNameError\u001B[0m                                 Traceback (most recent call last)",
      "Cell \u001B[0;32mIn[6], line 10\u001B[0m\n\u001B[1;32m      7\u001B[0m num_data \u001B[38;5;241m=\u001B[39m \u001B[38;5;241m400\u001B[39m\n\u001B[1;32m      9\u001B[0m \u001B[38;5;28minput\u001B[39m \u001B[38;5;241m=\u001B[39m testing_data\u001B[38;5;241m.\u001B[39mdata[:num_data] \u001B[38;5;241m/\u001B[39m \u001B[38;5;241m255.0\u001B[39m\n\u001B[0;32m---> 10\u001B[0m syn_input \u001B[38;5;241m=\u001B[39m \u001B[43mvae\u001B[49m\u001B[38;5;241m.\u001B[39mgenerate_data(n_samples\u001B[38;5;241m=\u001B[39mnum_data)\n\u001B[1;32m     12\u001B[0m input_rgb \u001B[38;5;241m=\u001B[39m \u001B[38;5;28minput\u001B[39m\u001B[38;5;241m.\u001B[39mview(\u001B[38;5;241m-\u001B[39m\u001B[38;5;241m1\u001B[39m, \u001B[38;5;241m1\u001B[39m, \u001B[38;5;241m28\u001B[39m, \u001B[38;5;241m28\u001B[39m)\u001B[38;5;241m.\u001B[39mrepeat(\u001B[38;5;241m1\u001B[39m, \u001B[38;5;241m3\u001B[39m, \u001B[38;5;241m1\u001B[39m, \u001B[38;5;241m1\u001B[39m)\n\u001B[1;32m     13\u001B[0m syn_input_rgb \u001B[38;5;241m=\u001B[39m syn_input\u001B[38;5;241m.\u001B[39mview(\u001B[38;5;241m-\u001B[39m\u001B[38;5;241m1\u001B[39m, \u001B[38;5;241m1\u001B[39m, \u001B[38;5;241m28\u001B[39m, \u001B[38;5;241m28\u001B[39m)\u001B[38;5;241m.\u001B[39mrepeat(\u001B[38;5;241m1\u001B[39m, \u001B[38;5;241m3\u001B[39m, \u001B[38;5;241m1\u001B[39m, \u001B[38;5;241m1\u001B[39m)\n",
      "\u001B[0;31mNameError\u001B[0m: name 'vae' is not defined"
     ]
    }
   ],
   "execution_count": 6
  },
  {
   "metadata": {
    "ExecuteTime": {
     "end_time": "2024-05-20T19:21:47.004840Z",
     "start_time": "2024-05-20T19:21:42.810186Z"
    }
   },
   "cell_type": "code",
   "source": [
    "# test baseline as IID data\n",
    "num_users = [3, 5, 10]\n",
    "for num_user in num_users:\n",
    "    model_state_dict_path = f\"../../models/federated_cvae_mnist_1_1.0_20_2_{num_user}.pt\"\n",
    "    loaded_state_dict = load(model_state_dict_path)\n",
    "    global_model = ConditionalVae(dim_encoding=3)\n",
    "    global_model.load_state_dict(loaded_state_dict)\n",
    "        \n",
    "    data_count = 10000\n",
    "    ratios = [0.1, 0.1, 0.1, 0.1, 0.1, 0.1, 0.1, 0.1, 0.1, 0.1]\n",
    "    images = []\n",
    "    labels = []\n",
    "    \n",
    "    for label_idx, ratio in enumerate(ratios):\n",
    "        num_samples_to_generate = int(data_count * ratio)\n",
    "        images.append(global_model.generate_data(n_samples=num_samples_to_generate, target_label=label_idx).cpu().detach())\n",
    "        \n",
    "        label = zeros((num_samples_to_generate, 10), device=device)\n",
    "        label[:, label_idx] = 1\n",
    "        labels.append(label.cpu().detach())\n",
    "    \n",
    "    final_images = vstack(images)\n",
    "    final_labels = vstack(labels)\n",
    "    \n",
    "    assert final_images.shape[0] == final_labels.shape[0]\n",
    "    \n",
    "    accuracy = classifier.test_model_syn_img_label(final_images, final_labels)\n",
    "    print(f\"IID data num users {num_user} accuracy: \", accuracy)"
   ],
   "id": "dbf11074edbb8829",
   "outputs": [
    {
     "name": "stdout",
     "output_type": "stream",
     "text": [
      "IID data num users 3 accuracy:  0.9395\n",
      "IID data num users 5 accuracy:  0.8861\n",
      "IID data num users 10 accuracy:  0.8228\n"
     ]
    }
   ],
   "execution_count": 7
  },
  {
   "metadata": {
    "ExecuteTime": {
     "end_time": "2024-05-20T19:22:40.240812Z",
     "start_time": "2024-05-20T19:21:58.843487Z"
    }
   },
   "cell_type": "code",
   "source": [
    "# test on no-IID data\n",
    "# test the federated global model against the classifier over multiple dirichlet and communication rounds\n",
    "#     torch.save(global_model.state_dict(), f\"/home/neo/projects/RP_data/models/global_{args.model}_{args.dataset}_{args.dirichlet}_{args.epochs}_{args.local_ep}.pt\")\n",
    "dirichlet_ratios = [0.1, 0.2, 0.3, 0.4, 0.5, 0.6, 0.7, 0.8, 0.9, 1.0]\n",
    "num_users = [3, 5, 10]\n",
    "\n",
    "for num_user in num_users:\n",
    "    for dirichlet_ratio in dirichlet_ratios:\n",
    "        model_state_dict_path = f\"../../models/federated_cvae_mnist_2_{dirichlet_ratio}_20_2_{num_user}.pt\"\n",
    "        loaded_state_dict = load(model_state_dict_path)\n",
    "        global_model = ConditionalVae(dim_encoding=3)\n",
    "        global_model.load_state_dict(loaded_state_dict)\n",
    "            \n",
    "        data_count = 10000\n",
    "        ratios = [0.1, 0.1, 0.1, 0.1, 0.1, 0.1, 0.1, 0.1, 0.1, 0.1]\n",
    "        images = []\n",
    "        labels = []\n",
    "        \n",
    "        for label_idx, ratio in enumerate(ratios):\n",
    "            num_samples_to_generate = int(data_count * ratio)\n",
    "            images.append(global_model.generate_data(n_samples=num_samples_to_generate, target_label=label_idx).cpu().detach())\n",
    "            \n",
    "            label = zeros((num_samples_to_generate, 10), device=device)\n",
    "            label[:, label_idx] = 1\n",
    "            labels.append(label.cpu().detach())\n",
    "        \n",
    "        final_images = vstack(images)\n",
    "        final_labels = vstack(labels)\n",
    "        \n",
    "        assert final_images.shape[0] == final_labels.shape[0]\n",
    "        \n",
    "        accuracy = classifier.test_model_syn_img_label(final_images, final_labels)\n",
    "        print(f\"Num user {num_user}, Dirichlet beta {dirichlet_ratio} accuracy: \", accuracy)\n",
    "        \n",
    "        if num_user == 10 and dirichlet_ratio == 0.1:\n",
    "            for i in range(10):\n",
    "                images = global_model.generate_data(n_samples=5, target_label=i)\n",
    "                plot_image(images)"
   ],
   "id": "4736cf8130b26de2",
   "outputs": [
    {
     "name": "stdout",
     "output_type": "stream",
     "text": [
      "Num user 3, Dirichlet beta 0.1 accuracy:  0.9366\n",
      "Num user 3, Dirichlet beta 0.2 accuracy:  0.9844\n",
      "Num user 3, Dirichlet beta 0.3 accuracy:  0.9683\n",
      "Num user 3, Dirichlet beta 0.4 accuracy:  0.933\n",
      "Num user 3, Dirichlet beta 0.5 accuracy:  0.9814\n",
      "Num user 3, Dirichlet beta 0.6 accuracy:  0.9654\n",
      "Num user 3, Dirichlet beta 0.7 accuracy:  0.9137\n",
      "Num user 3, Dirichlet beta 0.8 accuracy:  0.9597\n",
      "Num user 3, Dirichlet beta 0.9 accuracy:  0.9658\n",
      "Num user 3, Dirichlet beta 1.0 accuracy:  0.9487\n",
      "Num user 5, Dirichlet beta 0.1 accuracy:  0.9118\n",
      "Num user 5, Dirichlet beta 0.2 accuracy:  0.8907\n",
      "Num user 5, Dirichlet beta 0.3 accuracy:  0.9643\n",
      "Num user 5, Dirichlet beta 0.4 accuracy:  0.9495\n",
      "Num user 5, Dirichlet beta 0.5 accuracy:  0.9207\n",
      "Num user 5, Dirichlet beta 0.6 accuracy:  0.9615\n",
      "Num user 5, Dirichlet beta 0.7 accuracy:  0.9265\n",
      "Num user 5, Dirichlet beta 0.8 accuracy:  0.8962\n",
      "Num user 5, Dirichlet beta 0.9 accuracy:  0.9675\n",
      "Num user 5, Dirichlet beta 1.0 accuracy:  0.9129\n",
      "Num user 10, Dirichlet beta 0.1 accuracy:  0.8196\n",
      "Num user 10, Dirichlet beta 0.2 accuracy:  0.8844\n",
      "Num user 10, Dirichlet beta 0.3 accuracy:  0.8778\n",
      "Num user 10, Dirichlet beta 0.4 accuracy:  0.823\n",
      "Num user 10, Dirichlet beta 0.5 accuracy:  0.8574\n",
      "Num user 10, Dirichlet beta 0.6 accuracy:  0.8177\n",
      "Num user 10, Dirichlet beta 0.7 accuracy:  0.876\n",
      "Num user 10, Dirichlet beta 0.8 accuracy:  0.8328\n",
      "Num user 10, Dirichlet beta 0.9 accuracy:  0.9144\n",
      "Num user 10, Dirichlet beta 1.0 accuracy:  0.8541\n"
     ]
    },
    {
     "data": {
      "text/plain": [
       "<Figure size 640x480 with 5 Axes>"
      ],
      "image/png": "[encoded data removed]"
     },
     "metadata": {},
     "output_type": "display_data"
    },
    {
     "data": {
      "text/plain": [
       "<Figure size 640x480 with 5 Axes>"
      ],
      "image/png": "[encoded data removed]"
     },
     "metadata": {},
     "output_type": "display_data"
    },
    {
     "data": {
      "text/plain": [
       "<Figure size 640x480 with 5 Axes>"
      ],
      "image/png": "[encoded data removed]"
     },
     "metadata": {},
     "output_type": "display_data"
    },
    {
     "data": {
      "text/plain": [
       "<Figure size 640x480 with 5 Axes>"
      ],
      "image/png": "[encoded data removed]"
     },
     "metadata": {},
     "output_type": "display_data"
    },
    {
     "data": {
      "text/plain": [
       "<Figure size 640x480 with 5 Axes>"
      ],
      "image/png": "[encoded data removed]"
     },
     "metadata": {},
     "output_type": "display_data"
    },
    {
     "data": {
      "text/plain": [
       "<Figure size 640x480 with 5 Axes>"
      ],
      "image/png": "[encoded data removed]"
     },
     "metadata": {},
     "output_type": "display_data"
    },
    {
     "data": {
      "text/plain": [
       "<Figure size 640x480 with 5 Axes>"
      ],
      "image/png": "[encoded data removed]"
     },
     "metadata": {},
     "output_type": "display_data"
    },
    {
     "data": {
      "text/plain": [
       "<Figure size 640x480 with 5 Axes>"
      ],
      "image/png": "[encoded data removed]"
     },
     "metadata": {},
     "output_type": "display_data"
    },
    {
     "data": {
      "text/plain": [
       "<Figure size 640x480 with 5 Axes>"
      ],
      "image/png": "[encoded data removed]"
     },
     "metadata": {},
     "output_type": "display_data"
    },
    {
     "data": {
      "text/plain": [
       "<Figure size 640x480 with 5 Axes>"
      ],
      "image/png": "[encoded data removed]"
     },
     "metadata": {},
     "output_type": "display_data"
    }
   ],
   "execution_count": 8
  },
  {
   "metadata": {
    "ExecuteTime": {
     "end_time": "2024-05-21T15:15:39.240334Z",
     "start_time": "2024-05-21T15:15:38.633917Z"
    }
   },
   "cell_type": "code",
   "source": [
    "# train classifier on generated images\n",
    "data_count = 60000\n",
    "ratios = [0.1, 0.1, 0.1, 0.1, 0.1, 0.1, 0.1, 0.1, 0.1, 0.1]\n",
    "images = []\n",
    "labels = []\n",
    "\n",
    "global_model = vae\n",
    "            \n",
    "for label_idx, ratio in enumerate(ratios):\n",
    "    num_samples_to_generate = int(data_count * ratio)\n",
    "    images.append(\n",
    "        global_model.generate_data(n_samples=num_samples_to_generate, target_label=label_idx).cpu().detach()\n",
    "        * 0.75\n",
    "    )\n",
    "    label = zeros((num_samples_to_generate, 10), device=device)\n",
    "    label[:, label_idx] = 1\n",
    "    labels.append(label.cpu().detach())\n",
    "final_images = vstack(images)\n",
    "final_labels = vstack(labels)\n",
    "\n",
    "training_data = torchvision.datasets.MNIST(root='../../data/MNIST_train', train=True, download=True,\n",
    "                                                  transform=torchvision.transforms.ToTensor())\n",
    "training_data.data = squeeze(final_images, dim=1)\n",
    "training_data.targets = final_labels.argmax(dim=1)\n",
    "\n",
    "print(training_data.data.shape)\n",
    "print(training_data.targets.shape)\n",
    "print(training_data.data[:1000].mean().item())"
   ],
   "id": "48fdd21624bea58c",
   "outputs": [
    {
     "name": "stdout",
     "output_type": "stream",
     "text": [
      "torch.Size([60000, 28, 28])\n",
      "torch.Size([60000])\n",
      "0.12683534622192383\n"
     ]
    }
   ],
   "execution_count": 69
  },
  {
   "metadata": {
    "ExecuteTime": {
     "end_time": "2024-05-21T15:18:54.025645Z",
     "start_time": "2024-05-21T15:16:37.198566Z"
    }
   },
   "cell_type": "code",
   "source": [
    "# # CNN classifier for performance evaluation\n",
    "# # training data is synthetic, testing data is real (normalized)\n",
    "# model = \"classifier\"\n",
    "# dataset = \"mnist\"\n",
    "# batch_size = 64\n",
    "# learning_rate = 0.01\n",
    "# epoch = 10\n",
    "# \n",
    "# testing_data = torchvision.datasets.MNIST(root='../../data/MNIST_test', train=False, download=True, transform=torchvision.transforms.ToTensor())\n",
    "# testing_data.data = testing_data.data / 255.0\n",
    "# \n",
    "# print(testing_data.data[:1000])\n",
    "\n",
    "classifier = ExquisiteNetV1(class_num=10, img_channels=1)\n",
    "classifier.to(device)\n",
    "classifier.train_model(training_data, testing_data, batch_size=batch_size, learning_rate=learning_rate, epochs=epoch)"
   ],
   "id": "72a33e73f8cef6e2",
   "outputs": [
    {
     "name": "stderr",
     "output_type": "stream",
     "text": [
      "/home/neo/projects/Federated-Learning-PyTorch/venv/lib/python3.12/site-packages/torch/nn/modules/conv.py:456: UserWarning: Plan failed with a cudnnException: CUDNN_BACKEND_EXECUTION_PLAN_DESCRIPTOR: cudnnFinalize Descriptor Failed cudnn_status: CUDNN_STATUS_NOT_SUPPORTED (Triggered internally at ../aten/src/ATen/native/cudnn/Conv_v8.cpp:919.)\n",
      "  return F.conv2d(input, weight, bias, self.stride,\n",
      "/home/neo/projects/Federated-Learning-PyTorch/venv/lib/python3.12/site-packages/torch/autograd/graph.py:744: UserWarning: Plan failed with a cudnnException: CUDNN_BACKEND_EXECUTION_PLAN_DESCRIPTOR: cudnnFinalize Descriptor Failed cudnn_status: CUDNN_STATUS_NOT_SUPPORTED (Triggered internally at ../aten/src/ATen/native/cudnn/Conv_v8.cpp:919.)\n",
      "  return Variable._execution_engine.run_backward(  # Calls into the C++ engine to run the backward pass\n"
     ]
    },
    {
     "name": "stdout",
     "output_type": "stream",
     "text": [
      "Epoch done:  1\n",
      "Training loss:  2.1747634410858154\n",
      "Testing loss:  -0.10213889730026485\n",
      "Epoch done:  2\n",
      "Training loss:  1.285173773765564\n",
      "Testing loss:  -0.014920243423930394\n",
      "Epoch done:  3\n",
      "Training loss:  0.918653130531311\n",
      "Testing loss:  -0.012448968353924476\n",
      "Epoch done:  4\n",
      "Training loss:  0.7521913647651672\n",
      "Testing loss:  -0.014273452092033281\n",
      "Epoch done:  5\n",
      "Training loss:  0.4467571973800659\n",
      "Testing loss:  -0.45767753599745464\n",
      "Epoch done:  6\n",
      "Training loss:  0.18228211998939514\n",
      "Testing loss:  -0.5153876495114558\n",
      "Epoch done:  7\n",
      "Training loss:  0.30195528268814087\n",
      "Testing loss:  -0.6420440807416556\n",
      "Epoch done:  8\n",
      "Training loss:  0.4293631613254547\n",
      "Testing loss:  -0.7793084525734566\n",
      "Epoch done:  9\n",
      "Training loss:  0.19524621963500977\n",
      "Testing loss:  -0.2631671180011361\n",
      "Epoch done:  10\n",
      "Training loss:  0.5485231280326843\n",
      "Testing loss:  -0.8318561487801515\n"
     ]
    }
   ],
   "execution_count": 71
  },
  {
   "metadata": {
    "ExecuteTime": {
     "end_time": "2024-05-21T15:19:31.649577Z",
     "start_time": "2024-05-21T15:19:30.356938Z"
    }
   },
   "cell_type": "code",
   "source": [
    "# test on real data\n",
    "accuracy, loss, f1_macro, f1_micro = classifier.test_inference(testing_data, batch_size)\n",
    "\n",
    "print(accuracy)\n",
    "print(loss)\n",
    "print(f1_macro)\n",
    "print(f1_micro)\n",
    "# \n",
    "# # test on synthetic data\n",
    "# data_count = 10000\n",
    "# ratios = [0.1, 0.1, 0.1, 0.1, 0.1, 0.1, 0.1, 0.1, 0.1, 0.1]\n",
    "# images = []\n",
    "# labels = []\n",
    "# for label_idx, ratio in enumerate(ratios):\n",
    "#     num_samples_to_generate = int(data_count * ratio)\n",
    "#     images.append(\n",
    "#         global_model.generate_data(n_samples=num_samples_to_generate, target_label=label_idx).cpu().detach()\n",
    "#         * 0.75\n",
    "#     )\n",
    "#     label = zeros((num_samples_to_generate, 10), device=device)\n",
    "#     label[:, label_idx] = 1\n",
    "#     labels.append(label.cpu().detach())\n",
    "# final_images = vstack(images)\n",
    "# final_labels = vstack(labels)\n",
    "# \n",
    "# testing_data = torchvision.datasets.MNIST(root='../../data/MNIST_train', train=False, download=True,\n",
    "#                                                   transform=torchvision.transforms.ToTensor())\n",
    "# testing_data.data = squeeze(final_images, dim=1)\n",
    "# testing_data.targets = final_labels.argmax(dim=1)\n",
    "# \n",
    "# accuracy, loss, f1_macro, f1_micro = classifier.test_inference(testing_data, batch_size)\n",
    "# \n",
    "# print(accuracy)\n",
    "# print(loss)\n",
    "# print(f1_macro)\n",
    "# print(f1_micro)"
   ],
   "id": "1486f2d18194eec6",
   "outputs": [
    {
     "name": "stdout",
     "output_type": "stream",
     "text": [
      "0.1529\n",
      "-0.8306754826787548\n",
      "0.15550741659585468\n",
      "0.1529\n"
     ]
    }
   ],
   "execution_count": 72
  },
  {
   "metadata": {},
   "cell_type": "code",
   "outputs": [],
   "execution_count": null,
   "source": "",
   "id": "75709c1efb40beec"
  }
 ],
 "metadata": {
  "kernelspec": {
   "display_name": "Python 3",
   "language": "python",
   "name": "python3"
  },
  "language_info": {
   "codemirror_mode": {
    "name": "ipython",
    "version": 2
   },
   "file_extension": ".py",
   "mimetype": "text/x-python",
   "name": "python",
   "nbconvert_exporter": "python",
   "pygments_lexer": "ipython2",
   "version": "2.7.6"
  }
 },
 "nbformat": 4,
 "nbformat_minor": 5
}
