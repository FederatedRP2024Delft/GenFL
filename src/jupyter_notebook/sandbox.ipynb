{
 "cells": [
  {
   "cell_type": "code",
   "id": "initial_id",
   "metadata": {
    "collapsed": true,
    "ExecuteTime": {
     "end_time": "2024-05-22T07:00:03.776849Z",
     "start_time": "2024-05-22T07:00:03.771132Z"
    }
   },
   "source": [
    "import os\n",
    "\n",
    "import torch\n",
    "import torchvision\n",
    "\n",
    "import numpy as np\n",
    "from torch import cuda, device, Tensor, save, load, zeros, vstack, squeeze, zeros_like, where, round, ones_like\n",
    "from src.plots import plot_vae_training_result, plot_image\n",
    "from src.vae.mnist_vae import ConditionalVae\n",
    "from src.image_classifier.exq_net_v1 import ExquisiteNetV1\n",
    "\n",
    "device = device('cuda' if cuda.is_available() else 'cpu')"
   ],
   "execution_count": 5,
   "outputs": []
  },
  {
   "metadata": {
    "ExecuteTime": {
     "end_time": "2024-05-22T07:00:29.713176Z",
     "start_time": "2024-05-22T07:00:29.700787Z"
    }
   },
   "cell_type": "code",
   "source": [
    "y = torch.tensor([2, 5, 5, 9, 7, 3, 1, 3, 7, 9, 5, 2, 1, 2, 3, 9, 5, 7, 0, 3, 9])\n",
    "labels_list = [torch.zeros_like(y) for _ in range(2)]\n",
    "\n",
    "print(labels_list)"
   ],
   "id": "9fd14787651b30be",
   "execution_count": 7,
   "outputs": []
  },
  {
   "metadata": {
    "ExecuteTime": {
     "end_time": "2024-05-22T07:07:56.345104Z",
     "start_time": "2024-05-22T07:07:56.272969Z"
    }
   },
   "cell_type": "code",
   "source": [
    "path = \"/home/neo/projects/RP_data/syn_images/arr_0.npy\"\n",
    "\n",
    "# Load the saved NumPy array\n",
    "loaded_array = np.load(path)\n",
    "\n",
    "print(loaded_array.shape)\n",
    "print(torch.tensor(loaded_array[0]))\n",
    "\n",
    "plot_image(loaded_array)"
   ],
   "id": "fe35d6eeabff137f",
   "execution_count": 11,
   "outputs": []
  },
  {
   "metadata": {},
   "cell_type": "code",
   "execution_count": null,
   "source": "",
   "id": "5c17d1e3e6b77e74",
   "outputs": []
  }
 ],
 "metadata": {
  "kernelspec": {
   "display_name": "Python 3",
   "language": "python",
   "name": "python3"
  },
  "language_info": {
   "codemirror_mode": {
    "name": "ipython",
    "version": 2
   },
   "file_extension": ".py",
   "mimetype": "text/x-python",
   "name": "python",
   "nbconvert_exporter": "python",
   "pygments_lexer": "ipython2",
   "version": "2.7.6"
  }
 },
 "nbformat": 4,
 "nbformat_minor": 5
}
